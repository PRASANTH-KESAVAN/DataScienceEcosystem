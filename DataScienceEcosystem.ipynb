{
 "cells": [
  {
   "cell_type": "markdown",
   "id": "0f40f73b-8180-4282-99b2-6d226f8a0270",
   "metadata": {},
   "source": [
    "# Data sience tools and ecosystem"
   ]
  },
  {
   "cell_type": "markdown",
   "id": "fffb884f-8fdd-49af-a4bd-4b8bf308e65d",
   "metadata": {},
   "source": [
    "In this notebook, Data Science Tools and Ecosystem are summarized."
   ]
  },
  {
   "cell_type": "markdown",
   "id": "e04452e0-9273-43dd-86bc-72a1689654f1",
   "metadata": {},
   "source": [
    "Some of the popular languages that Data Scientists use are:"
   ]
  },
  {
   "cell_type": "markdown",
   "id": "b3a87d4d-fc2c-4d01-a9ea-9f0d395158f0",
   "metadata": {},
   "source": [
    "1.Python \n",
    "2.R\n",
    "3.Scala\n",
    "4.Julia"
   ]
  },
  {
   "cell_type": "code",
   "execution_count": null,
   "id": "aaa867bd-48ad-4980-a439-ce2105476de0",
   "metadata": {},
   "outputs": [],
   "source": []
  },
  {
   "cell_type": "markdown",
   "id": "70ff1923-0faf-40c6-a030-2f1d515fa11f",
   "metadata": {},
   "source": [
    "#### Objectives:"
   ]
  },
  {
   "cell_type": "markdown",
   "id": "20f3532d-72f9-4459-9d17-66bc0282f1a8",
   "metadata": {},
   "source": [
    "=>Libraries\n",
    "=>DS tools\n",
    "=>Arithmetic expression\n",
    "=>hours to minutes conversion"
   ]
  },
  {
   "cell_type": "markdown",
   "id": "73047352-e076-49b6-aa8c-4cf344ce1036",
   "metadata": {},
   "source": [
    "Some of the commonly used libraries used by Data Scientists include:"
   ]
  },
  {
   "cell_type": "markdown",
   "id": "4e6cdafc-3d88-4261-b5de-b76182c4dc02",
   "metadata": {},
   "source": [
    "1.Numpy\n",
    "2.Panda\n",
    "3.matplotlib"
   ]
  },
  {
   "cell_type": "markdown",
   "id": "e660ae7d-b072-4078-80a8-284616cc35de",
   "metadata": {},
   "source": [
    "### Data Science Tools"
   ]
  },
  {
   "cell_type": "markdown",
   "id": "81fce0b7-a274-4d4d-802a-377eed225461",
   "metadata": {},
   "source": [
    "jupyter lab"
   ]
  },
  {
   "cell_type": "markdown",
   "id": "adfd2d81-9ba4-4d81-9742-170f3e84803a",
   "metadata": {},
   "source": [
    "google collab"
   ]
  },
  {
   "cell_type": "markdown",
   "id": "448c7df7-5eb2-44ce-83ad-1525a62c4240",
   "metadata": {},
   "source": [
    "jupter notebook"
   ]
  },
  {
   "cell_type": "markdown",
   "id": "9c7fd92a-0414-4ca6-9145-f5e4c565397f",
   "metadata": {},
   "source": [
    "### Below are a few examples of evaluating arithmetic expressions in Python"
   ]
  },
  {
   "cell_type": "code",
   "execution_count": 7,
   "id": "2579056c-ef35-433d-aaf2-d40b48a2dd9a",
   "metadata": {},
   "outputs": [
    {
     "data": {
      "text/plain": [
       "4"
      ]
     },
     "execution_count": 7,
     "metadata": {},
     "output_type": "execute_result"
    }
   ],
   "source": [
    "a = 1 + 3\n",
    "a"
   ]
  },
  {
   "cell_type": "code",
   "execution_count": 8,
   "id": "55e2700e-dbf2-4f7f-8ab0-4192c601aaa5",
   "metadata": {},
   "outputs": [
    {
     "data": {
      "text/plain": [
       "2"
      ]
     },
     "execution_count": 8,
     "metadata": {},
     "output_type": "execute_result"
    }
   ],
   "source": [
    "b= 4-2\n",
    "b"
   ]
  },
  {
   "cell_type": "code",
   "execution_count": 9,
   "id": "60f3529d-f2d4-4c3e-874c-727e29894ad0",
   "metadata": {},
   "outputs": [
    {
     "data": {
      "text/plain": [
       "12"
      ]
     },
     "execution_count": 9,
     "metadata": {},
     "output_type": "execute_result"
    }
   ],
   "source": [
    "c= 3*4\n",
    "c"
   ]
  },
  {
   "cell_type": "code",
   "execution_count": 10,
   "id": "eae0ae7a-c11a-4547-9f9a-8b0a140a01ff",
   "metadata": {},
   "outputs": [
    {
     "data": {
      "text/plain": [
       "5.0"
      ]
     },
     "execution_count": 10,
     "metadata": {},
     "output_type": "execute_result"
    }
   ],
   "source": [
    "d= 10/2\n",
    "d"
   ]
  },
  {
   "cell_type": "code",
   "execution_count": 11,
   "id": "2598f336-ceeb-40b8-a85c-2bbca2de2382",
   "metadata": {},
   "outputs": [
    {
     "data": {
      "text/plain": [
       "0"
      ]
     },
     "execution_count": 11,
     "metadata": {},
     "output_type": "execute_result"
    }
   ],
   "source": [
    "e= 10%2\n",
    "e"
   ]
  },
  {
   "cell_type": "code",
   "execution_count": 12,
   "id": "ec4d0a16-19ba-4f82-a075-addcc22addc5",
   "metadata": {},
   "outputs": [
    {
     "data": {
      "text/plain": [
       "17"
      ]
     },
     "execution_count": 12,
     "metadata": {},
     "output_type": "execute_result"
    }
   ],
   "source": [
    "#This a simple arithmetic expression to mutiply then add integers\n",
    "(3*4)+5"
   ]
  },
  {
   "cell_type": "code",
   "execution_count": 13,
   "id": "98eac6f7-2e70-4970-a825-41440f4e1223",
   "metadata": {},
   "outputs": [
    {
     "data": {
      "text/plain": [
       "3.3333333333333335"
      ]
     },
     "execution_count": 13,
     "metadata": {},
     "output_type": "execute_result"
    }
   ],
   "source": [
    "# This will convert 200 minutes to hours by diving by 60\n",
    "hrs =200/60\n",
    "hrs"
   ]
  },
  {
   "cell_type": "markdown",
   "id": "e084023e-30e6-4400-97b3-eb7323afe08b",
   "metadata": {},
   "source": [
    "## Author:"
   ]
  },
  {
   "cell_type": "markdown",
   "id": "94412c97-8650-4599-b57e-d87428584c60",
   "metadata": {},
   "source": [
    "PRASANTH K"
   ]
  },
  {
   "cell_type": "code",
   "execution_count": null,
   "id": "d7e48180-5fad-4274-961b-5a80558b2f4f",
   "metadata": {},
   "outputs": [],
   "source": []
  }
 ],
 "metadata": {
  "kernelspec": {
   "display_name": "Python 3 (ipykernel)",
   "language": "python",
   "name": "python3"
  },
  "language_info": {
   "codemirror_mode": {
    "name": "ipython",
    "version": 3
   },
   "file_extension": ".py",
   "mimetype": "text/x-python",
   "name": "python",
   "nbconvert_exporter": "python",
   "pygments_lexer": "ipython3",
   "version": "3.10.4"
  }
 },
 "nbformat": 4,
 "nbformat_minor": 5
}
